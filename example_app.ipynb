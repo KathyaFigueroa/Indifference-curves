{
 "cells": [
  {
   "cell_type": "markdown",
   "metadata": {},
   "source": [
    "La comprensión de qué son y qué modelan las curvas de indiferencia, es una gran herramienta para comprender la teoría de elección racional. La visión estándar del modelo de elección racional explica la toma de decisiones de los agentes económicos a través de un proceso en el que 1) se evalúan las opciones posibles y 2) se elige la opción más preferida de acuerdo a una regla de elección consistente. En otras palabras, la teoría de elección racional asume que los individuos tienen preferencias y eligen de acuerdo ellas.\n",
    "\n",
    "Desde esta perspectiva, se supone fundamentalmente que las preferencias son completas y transitivas. El supuesto de completitud refiere a que si un agente se enfrenta a una situación en la que debe elegir entre dos bienes A y B, el agente necesariamente podrá tener una opinión sobre su preferencia: Podrá preferir A, podrá preferir B o incluso podrá ser indiferente frente a los bienes A y B, pero nunca se encontrará completamente desinformado sobre su preferencia. Por otro lado, la transitividad refiere a que si se prefiere A sobre B y B sobre C, entonces se preferirá A sobre C. El supuesto de transitividad implica que las preferencias débiles del agente sólo pueden alternar entre opciones que le sean indiferentes.\n",
    "\n",
    "De esta forma, entendemos que las preferencias de los agentes pueden encontrarse en diferentes estados. Retomando los bienes A y B, se dice que:\n",
    "\n",
    "-Para que A sea débilmente preferido sobre B: A debe ser al menos tan bueno como B (A>=B)\n",
    "\n",
    "-Para que A sea estrictamente preferido sobre B (A>B): A debe se al menos tan bueno como B (A>=B), pero no B sobre A (B>=A).\n",
    "\n",
    "-Para que el agente sea indiferente entre A y B (A~B): A debe ser al menos tan bueno como B (A>=B) y B debe se al menos tan bueno como A (B>=A)\n",
    "\n",
    "Si las preferencias del agente son completas y transitivas, su regla de elección no será completamente arbitraria. De la misma manera, si la relación de preferencia es completa y transitiva, cualquier set de opciones finito tendrá un peor elemento, lo cual permite construir una función de utilidad. No obstante, si el set es infinito, no cualquier relación de preferencia completa y transitiva podrá ser representable por un valor real de la función utilidad. Esto significa que en estos casos no existen curvas de indiferencia. En principio nosotros podemos aprender sobre la regla de elección, y por tanto sobre las preferencias de un agente, mediante la observación de su acción/elección. Esta idea es la base de lo que en teoría económica se conoce como “preferencias reveladas”. \n",
    "\n",
    "Los economistas propusieron la función de las curvas de indiferencia como una representación gráfica que engloba constructos como preferencias, utilidad, tasa marginal de sustitución, restricción presupuestaria y el posible espacio de elección. Las curvas de indiferencias se definen como curvas formadas por puntos que indican una combinación de bienes que le proporcionan un nivel de utilidad específico a cierto agente. La idea de utilidad asigna un valor numérico a cada opción posible, asignando el valor más bajo a la opción que el agente considere “la peor”, el valor más alto al que considere “la mejor” y a las demás opciones sucesivamente bajo el mismo criterio. Dado que la teoría de elección racional se basa en una perspectiva de optimización, que asume que los agentes económicos siempre buscarán maximizar su utilidad, los bienes que produzcan una mayor utilidad siempre serán preferidos sobre los de menor valor, cuando ambos sean factibles. De esta forma, siempre se elegirá la combinación de bienes que se encuentre en la curva de indiferencia con un mayor valor de utilidad.\n"
   ]
  },
  {
   "cell_type": "markdown",
   "metadata": {},
   "source": [
    "Para lograr esto:"
   ]
  },
  {
   "cell_type": "code",
   "execution_count": 29,
   "metadata": {},
   "outputs": [],
   "source": [
    "%matplotlib inline\n",
    "from ipywidgets import interactive, interact, fixed\n",
    "import matplotlib.pyplot as plt\n",
    "import numpy as np\n",
    "from ipywidgets import FloatSlider, interact_manual"
   ]
  },
  {
   "cell_type": "code",
   "execution_count": 30,
   "metadata": {},
   "outputs": [],
   "source": [
    "def Utility(A, B, alpha):\n",
    "    return (A**alpha)*(B**(1-alpha))\n",
    "\n",
    "def Bconstraint(A, price1, price2, Bconst):\n",
    "    return (Bconst/price2)-(price1/price2)*A\n",
    "\n",
    "def B_indifference(A, mrs, alpha):\n",
    "    return (mrs/(A**alpha))**(1/(1-alpha))\n",
    "\n",
    "def Opt(price1, price2, Bconst, alpha):\n",
    "    A = alpha * Bconst/price1\n",
    "    B = (1-alpha)*Bconst/price2\n",
    "    U = Utility(A, B, alpha)\n",
    "    return A, B, U"
   ]
  },
  {
   "cell_type": "code",
   "execution_count": 38,
   "metadata": {},
   "outputs": [],
   "source": [
    "alpha = 0.5\n",
    "price1, price2 = 10, 10\n",
    "Bconst = 30\n",
    "alphamin, alphamax = 0, .99 \n",
    "pmin, pmax = 2, 20\n",
    "BCmin, BCmax = 0, 60\n",
    "mrsmin, mrsmax = 1, 15\n",
    "mrs = 1/2 # (1-alpha)* A / alpha * B "
   ]
  },
  {
   "cell_type": "code",
   "execution_count": 41,
   "metadata": {},
   "outputs": [],
   "source": [
    "def IndifferenceCurves(TMS = 1/mrs, Alpha = alpha):\n",
    "    \n",
    "    A = np.linspace(0.09, 20, num=100) #Rango curvas de indiferencia\n",
    "    B = np.linspace(0.09, 20, num=100) #Rango curvas de indiferencia\n",
    "    curves = B_indifference(A, TMS, Alpha)\n",
    "#    utility = Utility(A, B, Alpha)\n",
    "#    utilityalpha = \n",
    "#    alp1, alp2 = \n",
    "    \n",
    "    fig, ax = plt.subplots(figsize=(12,8))\n",
    "    ax.plot(A, curves, lw=2.5)\n",
    "#    ax.vlines(alp1,0,alp2, linestyles=\"dashed\") #Líneas punteadas\n",
    "#    ax.hlines(alp2,0,alp1, linestyles=\"dashed\") #Líneas punteadas\n",
    "#    ax.plot(alp1,alp2,'ob') #Punto azul\n",
    "    ax.set_xlim(0, 15) #X\n",
    "    ax.set_ylim(0, 15) #Y\n",
    "    ax.set_xlabel(r'$A$', fontsize=16)#A\n",
    "    ax.set_ylabel('$B$', fontsize=16) #B\n",
    "    ax.grid() #Cuadriculado\n",
    "    plt.show()\n",
    "    \n",
    "#    print(utilityalpha)\n",
    "\n",
    "#CHECAR TMS: no se actualiza"
   ]
  },
  {
   "cell_type": "code",
   "execution_count": 42,
   "metadata": {},
   "outputs": [
    {
     "data": {
      "application/vnd.jupyter.widget-view+json": {
       "model_id": "c313072557424fe9ad2fef20fdd59912",
       "version_major": 2,
       "version_minor": 0
      },
      "text/plain": [
       "interactive(children=(IntSlider(value=2, description='TMS', max=15, min=1), FloatSlider(value=0.5, description…"
      ]
     },
     "metadata": {},
     "output_type": "display_data"
    }
   ],
   "source": [
    "interact(IndifferenceCurves, Alpha=(alphamin,alphamax,0.01), TMS=(mrsmin, mrsmax,1));"
   ]
  },
  {
   "cell_type": "markdown",
   "metadata": {},
   "source": [
    "Restricciones:"
   ]
  },
  {
   "cell_type": "code",
   "execution_count": 34,
   "metadata": {},
   "outputs": [],
   "source": [
    "def Constraint (Precio1 = price1, Precio2 = price2, RestPresu = Bconst):\n",
    "    X = np.linspace(0.1,15,num=100)\n",
    "    budg = Bconstraint(X, Precio1, Precio2, RestPresu)\n",
    "    \n",
    "    fig, ax = plt.subplots(figsize=(12,8))\n",
    "    ax.plot(X, budg, lw=2.5)\n",
    "    ax.set_xlim(0, 15) #X\n",
    "    ax.set_ylim(0, 15) #Y\n",
    "    ax.set_xlabel(r'$A$', fontsize=16)#A\n",
    "    ax.set_ylabel('$B$', fontsize=16) #B\n",
    "    ax.grid() #Cuadriculado\n",
    "    plt.show()\n"
   ]
  },
  {
   "cell_type": "code",
   "execution_count": 35,
   "metadata": {},
   "outputs": [
    {
     "data": {
      "application/vnd.jupyter.widget-view+json": {
       "model_id": "8720e6c0c4b349c798b1872c209d911e",
       "version_major": 2,
       "version_minor": 0
      },
      "text/plain": [
       "interactive(children=(IntSlider(value=10, description='Precio1', max=20, min=2, step=2), IntSlider(value=10, d…"
      ]
     },
     "metadata": {},
     "output_type": "display_data"
    }
   ],
   "source": [
    "interact_manual(Constraint, Precio1=(pmin,pmax,2), Precio2=(pmin,pmax,2), RestPresu=(BCmin,BCmax,5), i=FloatSlider(min=1e5, max=1e7, step=1e5));"
   ]
  },
  {
   "cell_type": "markdown",
   "metadata": {},
   "source": [
    "Optimizar:"
   ]
  },
  {
   "cell_type": "code",
   "execution_count": 36,
   "metadata": {},
   "outputs": [],
   "source": [
    "def Optimal(Precio1 = price1, Precio2 = price2, RestPresu = Bconst, Alpha = alpha):\n",
    "    \n",
    "    A = np.linspace(0.1,15,num=100) #Rango curvas de indiferencia\n",
    "    Ap, Bp, ubarp = Opt(Precio1, Precio2, RestPresu, Alpha)\n",
    "    budg = Bconstraint(A, Precio1, Precio2, RestPresu)    \n",
    "    idfc = B_indifference(A, ubarp, Alpha)\n",
    "    \n",
    "    fig, ax = plt.subplots(figsize=(12,8))\n",
    "    ax.plot(A, budg, lw=2.5)\n",
    "    ax.plot(A, idfc, lw=2.5)\n",
    "    ax.vlines(Ap,0,Bp, linestyles=\"dashed\") #Líneas punteadas\n",
    "    ax.hlines(Bp,0,Ap, linestyles=\"dashed\") #Líneas punteadas\n",
    "    ax.plot(Ap,Bp,'ob') #Punto azul\n",
    "    ax.set_xlim(0, 15) #X\n",
    "    ax.set_ylim(0, 15) #Y\n",
    "    ax.set_xlabel(r'$A$', fontsize=16)#A\n",
    "    ax.set_ylabel('$B$', fontsize=16) #B\n",
    "    ax.grid() #Cuadriculado\n",
    "    plt.show()"
   ]
  },
  {
   "cell_type": "code",
   "execution_count": 37,
   "metadata": {},
   "outputs": [
    {
     "data": {
      "application/vnd.jupyter.widget-view+json": {
       "model_id": "89da326bdce94ad4a1d34cac5dc70377",
       "version_major": 2,
       "version_minor": 0
      },
      "text/plain": [
       "interactive(children=(IntSlider(value=10, description='Precio1', max=20, min=2, step=2), IntSlider(value=10, d…"
      ]
     },
     "metadata": {},
     "output_type": "display_data"
    }
   ],
   "source": [
    "interact(Optimal, Alpha=(alphamin,alphamax,0.01), Precio1=(pmin,pmax,2), Precio2=(pmin,pmax,2), RestPresu=(BCmin,BCmax,5));"
   ]
  },
  {
   "cell_type": "code",
   "execution_count": null,
   "metadata": {},
   "outputs": [],
   "source": []
  },
  {
   "cell_type": "code",
   "execution_count": null,
   "metadata": {},
   "outputs": [],
   "source": []
  },
  {
   "cell_type": "code",
   "execution_count": null,
   "metadata": {},
   "outputs": [],
   "source": []
  }
 ],
 "metadata": {
  "kernelspec": {
   "display_name": "Python 3",
   "language": "python",
   "name": "python3"
  },
  "language_info": {
   "codemirror_mode": {
    "name": "ipython",
    "version": 3
   },
   "file_extension": ".py",
   "mimetype": "text/x-python",
   "name": "python",
   "nbconvert_exporter": "python",
   "pygments_lexer": "ipython3",
   "version": "3.7.6"
  }
 },
 "nbformat": 4,
 "nbformat_minor": 4
}
