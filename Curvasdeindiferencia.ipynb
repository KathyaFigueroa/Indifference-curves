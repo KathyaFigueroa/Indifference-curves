{
 "cells": [
  {
   "cell_type": "markdown",
   "metadata": {},
   "source": [
    "# CURVAS DE INDIFERENCIA "
   ]
  },
  {
   "cell_type": "markdown",
   "metadata": {},
   "source": [
    "\n",
    "<blockquote><div style=\"font-style: normal; font-family: Georgia;\"\n",
    "                 \n",
    "\n",
    "Las curvas de indiferencia representan de forma gráfica las preferencias de los agentes económicos. Permiten visualizar constructos fundamentales de la Teoría de elección racional como: utilidad, tasa marginal de sustitución, restricción presupuestaria, el posible espacio de elección, entre otros.\n",
    "\n",
    "<br>\n",
    "\n",
    "Las curvas de indiferencias son curvas conformadas por un continuo de puntos que indican una combinación específica entre dos bienes que proporcionan el mismo valor de utilidad, a cierto agente económico, respecto a las demás combinaciones que se encuentran dentro de la misma curva. De la misma forma, para determinar los valores de utilidad se asigna de forma jerárquica un valor a cada posible opción, yendo del valor más bajo para la opción menos preferida, hasta el valor más alto para la opción más preferida (The core team, 2020). Dado lo anterior la función de utilidad de dos bienes se representa de la siguiente forma: \n",
    "\n",
    "$$U(A, B)$$\n",
    "\n",
    "Para que esta función pueda representar curvas de indiferencia, un requisito necesario es que la función de utilidad de A y B se iguale a una constante (c).\n",
    "                 \n",
    "$$U(A, B) = c$$\n",
    "                 \n",
    "Preferencias es uno de los constructos más importantes en la visión estándar de la Teoría de elección racional, ya que este marco explica la toma de decisiones de los agentes económicos a partir de un proceso en el que 1) se evalúan las opciones posibles y 2) se elige la opción más preferida de acuerdo a una regla de elección consistente. En otras palabras, la teoría asume que los individuos tienen preferencias y eligen de acuerdo ellas. No obstante, se reconoce que en un inicio nosotros sólo podemos aprender sobre la regla de elección que determine las preferencias de un agente, mediante la observación de su acción/elección (Levin & Milgrom, 2004). Esta idea es la base de lo que en teoría económica se conoce como “preferencias reveladas”.\n",
    "\n",
    "Desde esta perspectiva, se supone fundamentalmente que las preferencias son completas y transitivas. Lo cual refiere a que si un agente se enfrenta a una situación en la que debe elegir entre dos bienes A y B, el agente necesariamente podrá tener una opinión sobre su preferencia: podrá preferir A, podrá preferir B o incluso podrá ser indiferente frente a los bienes A y B, pero nunca se encontrará completamente desinformado sobre su preferencia (completitud) y que si el agente dice preferir a A sobre B y a B sobre C, entonces forzosamente preferirá a A sobre C; lo cual a su vez implica que el agente sólo alternará sobre su preferencia respecto a las opciones que le sean indiferentes (transitividad)(Levin & Milgrom, 2004).\n",
    "\n",
    "De esta forma, entendemos que las preferencias de los agentes pueden encontrarse en diferentes estados. Retomando los bienes A y B, se dice que:\n",
    "\n",
    "\n",
    "- Para que A sea estrictamente preferido sobre B (A>B): A debe se al menos tan bueno como B (A>=B), pero B no debe ser al menos tan bueno como A (B>=A).\n",
    "\n",
    "- Para que A sea débilmente preferido sobre B: A debe ser al menos tan bueno como B (A>=B).\n",
    "\n",
    "- Para que el agente sea indiferente entre A y B (A~B): A debe ser al menos tan bueno como B (A>=B) y B debe se al menos tan bueno como A (B>=A).\n",
    "\n",
    "\n",
    "Ahora bien, la característica de las curvas de indiferencia que nos mostrará el estado de las preferencias de los agentes es la inclinación de su curva, la cual estará dada por la función de la tasa marginal de sustitución (TMS). Lo que representa la tasa marginal de sustitución es la disposición de un agente de tener una unidad menos del bien A por una unidad más del bien B o viceversa (The core team, 2020). \n",
    "\n",
    "    \n",
    "$$TMS = \\frac{UtilidadMarginalA}{UtilidadMarginalB}$$\n",
    "\n",
    "Cuando la utilidad marginal de A es igual a la utilidad marginal de B al evaluar la TMS se entiende que el agente económico está maximizando la utilidad entre los bienes A-B (Goolsbee, Levitt & Syverson, 2020).\n"
   ]
  },
  {
   "cell_type": "markdown",
   "metadata": {},
   "source": [
    "<blockquote><div style=\"font-style: normal; font-family: Georgia;\"\n",
    "                 \n",
    "En la siguiente sección encontrarás un simulador de una curva de indiferencia. Juega con los valores y presta atención a cómo cambia la curva cuando mueves los valores del bien B respecto al bien A y cómo se modifica la curva cuando cambias los valores de la tasa marginal de sustitución (TMS).\n",
    "\n"
   ]
  },
  {
   "cell_type": "code",
   "execution_count": 1,
   "metadata": {},
   "outputs": [],
   "source": [
    "%matplotlib inline\n",
    "from ipywidgets import interactive, interact, fixed\n",
    "import matplotlib.pyplot as plt\n",
    "import numpy as np\n",
    "from ipywidgets import FloatSlider, interact_manual"
   ]
  },
  {
   "cell_type": "code",
   "execution_count": 2,
   "metadata": {},
   "outputs": [],
   "source": [
    "def Utility(A, B, alpha):\n",
    "    return (A**alpha)*(B**(1-alpha))\n",
    "\n",
    "def Bconstraint(A, price1, price2, Bconst):\n",
    "    return (Bconst/price2)-(price1/price2)*A\n",
    "\n",
    "def B_indifference(A, B, alpha):\n",
    "    return (B/(A**alpha))**(1/(1-alpha))\n",
    "\n",
    "def Opt(price1, price2, Bconst, alpha):\n",
    "    A = alpha * Bconst/price1\n",
    "    B = (1-alpha)*Bconst/price2\n",
    "    U = Utility(A, B, alpha)\n",
    "    return A, B, U"
   ]
  },
  {
   "cell_type": "code",
   "execution_count": 3,
   "metadata": {},
   "outputs": [],
   "source": [
    "alpha = 0.5\n",
    "price1, price2 = 10, 10\n",
    "Bconst = 30\n",
    "alphamin, alphamax = 0, .99 \n",
    "pmin, pmax = 2, 20\n",
    "BCmin, BCmax = 0, 60\n",
    "mrsmin, mrsmax = 1, 15\n",
    "B = 5"
   ]
  },
  {
   "cell_type": "code",
   "execution_count": 4,
   "metadata": {},
   "outputs": [],
   "source": [
    "def IndifferenceCurves(Cantidad_B = B, TMS = alpha):\n",
    "    \n",
    "    A = np.linspace(0.09, 20, num=100) #Rango curvas de indiferencia\n",
    "    curves = B_indifference(A, Cantidad_B, TMS)\n",
    "    \n",
    "    fig, ax = plt.subplots(figsize=(12,8))\n",
    "    ax.plot(A, curves, lw=2.5)\n",
    "    ax.set_xlim(0, 15) #X\n",
    "    ax.set_ylim(0, 15) #Y\n",
    "    ax.set_xlabel(r'$CantidadA$', fontsize=16)#A\n",
    "    ax.set_ylabel('$CantidadB$', fontsize=16) #B\n",
    "    ax.grid() #Cuadriculado\n",
    "    plt.show()\n"
   ]
  },
  {
   "cell_type": "code",
   "execution_count": 6,
   "metadata": {},
   "outputs": [
    {
     "data": {
      "application/vnd.jupyter.widget-view+json": {
       "model_id": "29e9adc3b9f341b8a4d5689ebc03913b",
       "version_major": 2,
       "version_minor": 0
      },
      "text/plain": [
       "interactive(children=(IntSlider(value=5, description='Cantidad_B', max=15, min=1), FloatSlider(value=0.5, desc…"
      ]
     },
     "metadata": {},
     "output_type": "display_data"
    }
   ],
   "source": [
    "interact(IndifferenceCurves, TMS =(alphamin,alphamax,0.01),  Cantidad_B = (mrsmin, mrsmax,1));#me está dando el doble"
   ]
  },
  {
   "cell_type": "markdown",
   "metadata": {},
   "source": [
    "## RESTRICCIONES:"
   ]
  },
  {
   "cell_type": "markdown",
   "metadata": {},
   "source": [
    "<blockquote><div style=\"font-style: normal; font-family: Georgia;\"\n",
    "\n",
    "La teoría de elección racional asume que los agentes siempre buscarán maximizar su utilidad y nunca se sentirán completamente saciados; sin embargo, reconoce que los agentes se encuentran en una situación de escazes, ya que los recursos que poseen y los que pueden adquirir siempre son limitados. Dicho de otra manera, a pesar de que se busque maximizar en todo momento, no todas las combinaciones posibles serán accesibles, dado nuestro ingreso o restricción presupuestaria. Dado lo anterior, en la investigación económica se ha establecido una necesidad por modelar las restricciones a las que se enfrentan los agentes económicos en su toma de decisiones; no obstante, siempre se procura que estas restricciones sean las mínimas para poder aplicar dichas restricciones a cualquier conjunto de datos disponibles. \n",
    "                 \n",
    "<br>\n",
    "    \n",
    "De la misma forma, desde la teoría del consumidor, se han determiando ciertas restricciones respecto a las preferencias de los agentes. Estas son: la monotonicidad, la no saciedad local, la separabilidad, la convexidad de las preferencias y el no efecto de la riqueza (Levin & Milgrom, 2004). En términos muy generales, estas restricciones hacen referencia a: \n",
    "\n",
    "<br>\n",
    "\n",
    "    1) Monotonicidad: más de un bien, siempre será mejor. \n",
    "\n",
    "    2) No saciedad local: hay configuraciones de bienes en las que, dada la restricción presupuestaria, siempre un pequeño cambio en la configuración ubicará al agente en una mejor condición.\n",
    "\n",
    "    3) Separabilidad: las preferencias de un agente respecto a cierto bien son independientes a las preferencias que el mismo agente pueda tener respecto a otro bien (Independencia).\n",
    "\n",
    "    4) Convexidad de las preferencias: los agentes prefieren la diversidad; esto es, si el agente es indiferente entre A y B, preferirá tener la mitad de A y la mitad de B.\n",
    "    \n",
    "    "
   ]
  },
  {
   "cell_type": "markdown",
   "metadata": {},
   "source": [
    "<blockquote><div style=\"font-style: normal; font-family: Georgia;\"\n",
    "\n",
    "Posterior a haber revisado los tipos de restricciones a las que se enfrentan tanto los analistas como los agentes económicos, a continuación encontrarás un simulador que te permitirá visualizar de forma gráfica el espacio plausible de elección, cuando:\n",
    "\n",
    "        1) El bien A tiene un Precio1\n",
    "        2) El bien B tiene un Precio2 \n",
    "        3) El agente tiene disponible una Restricción presupuestaria (RestPresu) que puede invertir por completo en combinaciones de bienes A-B.\n",
    "\n",
    "Define tus valores y observa la gráfica.\n",
    "\n"
   ]
  },
  {
   "cell_type": "code",
   "execution_count": 7,
   "metadata": {},
   "outputs": [],
   "source": [
    "def Constraint (Precio1 = price1, Precio2 = price2, RestPresu = Bconst):\n",
    "    X = np.linspace(0.1,15,num=100)\n",
    "    budg = Bconstraint(X, Precio1, Precio2, RestPresu)\n",
    "    \n",
    "    fig, ax = plt.subplots(figsize=(12,8))\n",
    "    ax.plot(X, budg, lw=2.5)\n",
    "    ax.set_xlim(0, 15) #X\n",
    "    ax.set_ylim(0, 15) #Y\n",
    "    ax.set_xlabel(r'$CantidadA$', fontsize=16)#A\n",
    "    ax.set_ylabel('$CantidadB$', fontsize=16) #B\n",
    "    ax.grid() #Cuadriculado\n",
    "    plt.show()\n"
   ]
  },
  {
   "cell_type": "code",
   "execution_count": 8,
   "metadata": {},
   "outputs": [
    {
     "data": {
      "application/vnd.jupyter.widget-view+json": {
       "model_id": "c4ddcdadd4ed4211922913b501b00f23",
       "version_major": 2,
       "version_minor": 0
      },
      "text/plain": [
       "interactive(children=(IntSlider(value=10, description='Precio1', max=20, min=2), IntSlider(value=10, descripti…"
      ]
     },
     "metadata": {},
     "output_type": "display_data"
    }
   ],
   "source": [
    "interact_manual(Constraint, Precio1=(pmin,pmax,1), Precio2=(pmin,pmax,1), RestPresu=(BCmin,BCmax,1), i=FloatSlider(min=1e5, max=1e7, step=1e5));"
   ]
  },
  {
   "cell_type": "markdown",
   "metadata": {},
   "source": [
    "## OPTIMIZAR:"
   ]
  },
  {
   "cell_type": "markdown",
   "metadata": {},
   "source": [
    "<blockquote><div style=\"font-style: normal; font-family: Georgia;\"\n",
    "\n",
    "Finalmente, uno de los principios más importantes en Teoría de elección racional es la optimización. Grosso modo, la optimización refiere al intento por elegir la \"mejor\" opción plausible. Se habla del \"intento\" porque sabemos que esto no siempre será posible; de cualquier forma, el intento por optimizar es lo que implica racionalidad en una elección (Acemoglu, Laibson & List, 2020).\n",
    "\n",
    "<br>\n",
    "\n",
    "Integrando los conceptos anteriormente mencionados, la Teoría de elección racional asume que en la toma de decisiones de un agente económico siempre se buscará optimizar; es decir, siempre se buscará elegir la combinación de bienes que al agente le genere una mayor utilidad (maximización de utilidad), en la medida en que esta combinación de bienes se encuentre dentro de lo que el agente sabe es posible. Si hablamos de la adquisición de bienes en competencia en un mercado, como en la sección anterior, estas limitantes podrían ser representadas por la capacidad adquisitiva o restricción presupuestaria del agente. Cuando hablamos específicamente de restricciones monetarias, a este tipo de optimización se le conoce como \"Optimización restringida\" (Goolsbee, Levitt & Syverson, 2020).\n",
    "\n",
    "De esta forma,\n",
    "\n",
    "        Optimizar = Maximización de utilidad + restricciones.\n",
    "        "
   ]
  },
  {
   "cell_type": "markdown",
   "metadata": {},
   "source": [
    "<blockquote><div style=\"font-style: normal; font-family: Georgia;\"\n",
    "                 \n",
    "En esta última sección, encontrarás un simulador del concepto optimización. \n",
    "\n",
    "Ajusta los valores de:\n",
    "\n",
    "        1) Precio1 para el bien A.\n",
    "        2) Precio2 para el bien B. \n",
    "        3) RestPresu para la restricción presupuestaria del agente económico. \n",
    "        4) TMS para la tasa marginal de sustitución del agente.\n",
    "\n",
    "Juega con los valores y observa su efecto en la curva de indiferencia.\n",
    "\n"
   ]
  },
  {
   "cell_type": "code",
   "execution_count": 9,
   "metadata": {},
   "outputs": [],
   "source": [
    "def Optimal(Precio1 = price1, Precio2 = price2, RestPresu = Bconst, TMS = alpha):\n",
    "    \n",
    "    A = np.linspace(0.1,15,num=100) #Rango curvas de indiferencia\n",
    "    Ap, Bp, ubarp = Opt(Precio1, Precio2, RestPresu, TMS)\n",
    "    budg = Bconstraint(A, Precio1, Precio2, RestPresu)    \n",
    "    idfc = B_indifference(A, ubarp, TMS)\n",
    "    \n",
    "    fig, ax = plt.subplots(figsize=(12,8))\n",
    "    ax.plot(A, budg, lw=2.5)\n",
    "    ax.plot(A, idfc, lw=2.5)\n",
    "    ax.vlines(Ap,0,Bp, linestyles=\"dashed\") #Líneas punteadas\n",
    "    ax.hlines(Bp,0,Ap, linestyles=\"dashed\") #Líneas punteadas\n",
    "    ax.plot(Ap,Bp,'ob') #Punto azul\n",
    "    ax.set_xlim(0, 15) #X\n",
    "    ax.set_ylim(0, 15) #Y\n",
    "    ax.set_xlabel(r'$CantidadA$', fontsize=16)#A\n",
    "    ax.set_ylabel('$CantidadB$', fontsize=16) #B\n",
    "    ax.grid() #Cuadriculado\n",
    "    plt.show()"
   ]
  },
  {
   "cell_type": "code",
   "execution_count": 10,
   "metadata": {},
   "outputs": [
    {
     "data": {
      "application/vnd.jupyter.widget-view+json": {
       "model_id": "b8a69205a02440ae9f3cf609d2f4a142",
       "version_major": 2,
       "version_minor": 0
      },
      "text/plain": [
       "interactive(children=(IntSlider(value=10, description='Precio1', max=20, min=2, step=2), IntSlider(value=10, d…"
      ]
     },
     "metadata": {},
     "output_type": "display_data"
    }
   ],
   "source": [
    "interact(Optimal, TMS=(alphamin,alphamax,0.01), Precio1=(pmin,pmax,2), Precio2=(pmin,pmax,2), RestPresu=(BCmin,BCmax,5));"
   ]
  },
  {
   "cell_type": "markdown",
   "metadata": {},
   "source": [
    "### REFERENCIAS:"
   ]
  },
  {
   "cell_type": "markdown",
   "metadata": {},
   "source": [
    "<blockquote><div style=\"font-style: normal; font-family: Georgia;\"\n",
    "\n",
    "* Acemoglu D., Laibson D.& List J. (2020) *Microeconomics*, Global Edition\n",
    "* Gloosbee A., Levitt S. & Syverson C. (2020) *Microeconomics*, 3rd Edition\n",
    "* Levin & Milgrom (2004) *Introduction to Choice Theory*\n",
    "* The core team (2020) *The Economy*, Obtenido de: https://www.core-econ.org/the-economy/index.html.\n",
    "\n"
   ]
  },
  {
   "cell_type": "markdown",
   "metadata": {},
   "source": [
    "<blockquote><div style=\"font-style: normal; font-family: Georgia;\"\n",
    "\n",
    "Figueroa Muñoz Kathya Michelle."
   ]
  }
 ],
 "metadata": {
  "kernelspec": {
   "display_name": "Python 3",
   "language": "python",
   "name": "python3"
  },
  "language_info": {
   "codemirror_mode": {
    "name": "ipython",
    "version": 3
   },
   "file_extension": ".py",
   "mimetype": "text/x-python",
   "name": "python",
   "nbconvert_exporter": "python",
   "pygments_lexer": "ipython3",
   "version": "3.7.6"
  }
 },
 "nbformat": 4,
 "nbformat_minor": 4
}
